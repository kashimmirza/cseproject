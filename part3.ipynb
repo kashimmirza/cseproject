{
 "cells": [
  {
   "cell_type": "markdown",
   "id": "b33dcb70",
   "metadata": {},
   "source": [
    "# support vector machine model"
   ]
  },
  {
   "cell_type": "code",
   "execution_count": null,
   "id": "08774972",
   "metadata": {},
   "outputs": [],
   "source": [
    "import numpy as np\n",
    "import pandas as pd\n",
    "import matplotlib.pyplot as plt\n",
    "import matplotlib\n",
    "\n",
    "import seaborn as sns\n",
    "from sklearn.model_selection import train_test_split"
   ]
  },
  {
   "cell_type": "code",
   "execution_count": 2,
   "id": "803d4581",
   "metadata": {},
   "outputs": [],
   "source": [
    "df = pd.read_csv('C:/Users/User/Desktop/diseases detection/Cleaned-Data.csv')"
   ]
  },
  {
   "cell_type": "code",
   "execution_count": 4,
   "id": "23ed5176",
   "metadata": {},
   "outputs": [],
   "source": [
    "df = df.drop(['Country'], axis = 1)"
   ]
  },
  {
   "cell_type": "code",
   "execution_count": 5,
   "id": "5f9ca8d8",
   "metadata": {},
   "outputs": [],
   "source": [
    "df = df.drop(['Gender_Transgender'],axis = 1)"
   ]
  },
  {
   "cell_type": "code",
   "execution_count": 6,
   "id": "01b68602",
   "metadata": {},
   "outputs": [],
   "source": [
    "none = df['Severity_None']"
   ]
  },
  {
   "cell_type": "code",
   "execution_count": 7,
   "id": "0c440bb9",
   "metadata": {},
   "outputs": [],
   "source": [
    "essai = np.array(df)"
   ]
  },
  {
   "cell_type": "code",
   "execution_count": 8,
   "id": "224d76eb",
   "metadata": {},
   "outputs": [],
   "source": [
    "essai[:,18]\n",
    "essai[:,19]\n",
    "essai[:,20]\n",
    "essai[:,21]\n",
    "symptomes = []\n",
    "for i in range (316800):\n",
    "    if essai[i,18] == 1 :\n",
    "        symptomes.append(0)\n",
    "    if essai[i,19] == 1 :\n",
    "        symptomes.append(1)\n",
    "    if essai[i,20] == 1 :\n",
    "        symptomes.append(0)\n",
    "    if essai[i,21] == 1 :\n",
    "        symptomes.append(2)"
   ]
  },
  {
   "cell_type": "code",
   "execution_count": 9,
   "id": "d4db6424",
   "metadata": {},
   "outputs": [],
   "source": [
    "df = df.drop(['Severity_Mild'],axis = 1)\n",
    "df = df.drop(['Severity_None'],axis = 1)\n",
    "df = df.drop(['Severity_Moderate'],axis = 1)\n",
    "df = df.drop(['Severity_Severe'],axis = 1)\n",
    "df = df.drop(['None_Sympton'], axis=1)\n",
    "df = df.drop(['None_Experiencing'], axis=1)\n",
    "df = df.drop(['Contact_No'],axis = 1)\n",
    "df = df.drop(['Contact_Yes'], axis =1)\n",
    "df = df.drop(['Contact_Dont-Know'], axis =1)"
   ]
  },
  {
   "cell_type": "code",
   "execution_count": 10,
   "id": "7abca8d0",
   "metadata": {},
   "outputs": [],
   "source": [
    "df.insert(16, \"symptomes\", symptomes, True)"
   ]
  },
  {
   "cell_type": "code",
   "execution_count": 11,
   "id": "ce06b8bc",
   "metadata": {},
   "outputs": [],
   "source": [
    "from sklearn.model_selection import train_test_split"
   ]
  },
  {
   "cell_type": "code",
   "execution_count": 12,
   "id": "434d1848",
   "metadata": {},
   "outputs": [],
   "source": [
    "x1=df\n",
    "\n",
    "X = df.drop(['symptomes'], axis=1)\n",
    "y = df.symptomes"
   ]
  },
  {
   "cell_type": "code",
   "execution_count": 13,
   "id": "5b7e0e6a",
   "metadata": {},
   "outputs": [
    {
     "name": "stdout",
     "output_type": "stream",
     "text": [
      "0         0\n",
      "1         0\n",
      "2         0\n",
      "3         1\n",
      "4         1\n",
      "         ..\n",
      "316795    2\n",
      "316796    2\n",
      "316797    0\n",
      "316798    0\n",
      "316799    0\n",
      "Name: symptomes, Length: 316800, dtype: int64\n"
     ]
    }
   ],
   "source": [
    "X = df.drop(['symptomes'], axis=1)\n",
    "y = df.symptomes\n",
    "print(y)"
   ]
  },
  {
   "cell_type": "code",
   "execution_count": 14,
   "id": "0ef19c82",
   "metadata": {},
   "outputs": [],
   "source": [
    "from sklearn.model_selection import train_test_split"
   ]
  },
  {
   "cell_type": "code",
   "execution_count": 15,
   "id": "679249ab",
   "metadata": {},
   "outputs": [],
   "source": [
    "X_train, X_test, y_train, y_test = train_test_split(X, y, test_size=0.2, random_state=0)"
   ]
  },
  {
   "cell_type": "code",
   "execution_count": 16,
   "id": "b2d9a078",
   "metadata": {},
   "outputs": [],
   "source": [
    "from sklearn.preprocessing import StandardScaler\n",
    "sc = StandardScaler()\n",
    "X_train_sc=sc.fit_transform(X_train)\n",
    "X_test_sc=sc.transform(X_test)"
   ]
  },
  {
   "cell_type": "code",
   "execution_count": 18,
   "id": "8bcae399",
   "metadata": {},
   "outputs": [],
   "source": [
    "from sklearn.metrics import confusion_matrix, classification_report, accuracy_score"
   ]
  },
  {
   "cell_type": "code",
   "execution_count": null,
   "id": "4050f970",
   "metadata": {},
   "outputs": [],
   "source": [
    "# Support Vector Machine\n",
    "from sklearn.svm import SVC\n",
    "svc_model = SVC()\n",
    "svc_model.fit(X_train, y_train)\n",
    "y_pred_svc = svc_model.predict(X_test)\n",
    " \n",
    "accuracy_score(y_test, y_pred_svc)"
   ]
  },
  {
   "cell_type": "code",
   "execution_count": null,
   "id": "9741de82",
   "metadata": {},
   "outputs": [],
   "source": [
    "# train with Standert Scaling dataset\n",
    "svc_model2 = SVC()\n",
    "svc_model2.fit(X_train_sc, y_train)\n",
    "y_pred_svc_sc = svc_model2.predict(X_test_sc)\n",
    " \n",
    "accuracy_score(y_test, y_pred_svc_sc)"
   ]
  },
  {
   "cell_type": "code",
   "execution_count": null,
   "id": "e1ec012d",
   "metadata": {},
   "outputs": [],
   "source": []
  }
 ],
 "metadata": {
  "kernelspec": {
   "display_name": "Python 3",
   "language": "python",
   "name": "python3"
  },
  "language_info": {
   "codemirror_mode": {
    "name": "ipython",
    "version": 3
   },
   "file_extension": ".py",
   "mimetype": "text/x-python",
   "name": "python",
   "nbconvert_exporter": "python",
   "pygments_lexer": "ipython3",
   "version": "3.8.8"
  }
 },
 "nbformat": 4,
 "nbformat_minor": 5
}
